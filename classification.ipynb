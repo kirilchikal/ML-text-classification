{
 "cells": [
  {
   "cell_type": "markdown",
   "metadata": {},
   "source": [
    "Importing libraries"
   ]
  },
  {
   "cell_type": "code",
   "execution_count": 61,
   "metadata": {},
   "outputs": [],
   "source": [
    "import pandas as pd\n",
    "import numpy as np\n",
    "import json\n",
    "import nltk\n",
    "import seaborn as sns\n",
    "import re\n",
    "import csv\n",
    "import matplotlib.pyplot as plt\n",
    "from tqdm import tqdm"
   ]
  },
  {
   "cell_type": "markdown",
   "metadata": {},
   "source": [
    "Extract data from file keeping only 4 columns"
   ]
  },
  {
   "cell_type": "code",
   "execution_count": 62,
   "metadata": {},
   "outputs": [
    {
     "name": "stderr",
     "output_type": "stream",
     "text": [
      "16559it [00:00, 25203.35it/s]\n",
      "100%|██████████| 16559/16559 [00:00<00:00, 1412488.66it/s]\n"
     ]
    },
    {
     "data": {
      "text/html": [
       "<div>\n",
       "<style scoped>\n",
       "    .dataframe tbody tr th:only-of-type {\n",
       "        vertical-align: middle;\n",
       "    }\n",
       "\n",
       "    .dataframe tbody tr th {\n",
       "        vertical-align: top;\n",
       "    }\n",
       "\n",
       "    .dataframe thead th {\n",
       "        text-align: right;\n",
       "    }\n",
       "</style>\n",
       "<table border=\"1\" class=\"dataframe\">\n",
       "  <thead>\n",
       "    <tr style=\"text-align: right;\">\n",
       "      <th></th>\n",
       "      <th>book_id</th>\n",
       "      <th>book_name</th>\n",
       "      <th>genre</th>\n",
       "      <th>summary</th>\n",
       "    </tr>\n",
       "  </thead>\n",
       "  <tbody>\n",
       "    <tr>\n",
       "      <th>0</th>\n",
       "      <td>620</td>\n",
       "      <td>Animal Farm</td>\n",
       "      <td>{\"/m/016lj8\": \"Roman \\u00e0 clef\", \"/m/06nbt\":...</td>\n",
       "      <td>Old Major, the old boar on the Manor Farm, ca...</td>\n",
       "    </tr>\n",
       "    <tr>\n",
       "      <th>1</th>\n",
       "      <td>843</td>\n",
       "      <td>A Clockwork Orange</td>\n",
       "      <td>{\"/m/06n90\": \"Science Fiction\", \"/m/0l67h\": \"N...</td>\n",
       "      <td>Alex, a teenager living in near-future Englan...</td>\n",
       "    </tr>\n",
       "  </tbody>\n",
       "</table>\n",
       "</div>"
      ],
      "text/plain": [
       "  book_id           book_name  \\\n",
       "0     620         Animal Farm   \n",
       "1     843  A Clockwork Orange   \n",
       "\n",
       "                                               genre  \\\n",
       "0  {\"/m/016lj8\": \"Roman \\u00e0 clef\", \"/m/06nbt\":...   \n",
       "1  {\"/m/06n90\": \"Science Fiction\", \"/m/0l67h\": \"N...   \n",
       "\n",
       "                                             summary  \n",
       "0   Old Major, the old boar on the Manor Farm, ca...  \n",
       "1   Alex, a teenager living in near-future Englan...  "
      ]
     },
     "execution_count": 62,
     "metadata": {},
     "output_type": "execute_result"
    }
   ],
   "source": [
    "data = []\n",
    "\n",
    "with open(\"Data/booksummaries/booksummaries.txt\", encoding=\"utf8\") as f:\n",
    "    reader = csv.reader(f, dialect='excel-tab')\n",
    "    for row in tqdm(reader):\n",
    "        data.append(row)\n",
    "\n",
    "book_id = []\n",
    "book_name = []\n",
    "summary = []\n",
    "genre = []\n",
    "\n",
    "for i in tqdm(data):\n",
    "    book_id.append(i[0])\n",
    "    book_name.append(i[2])\n",
    "    genre.append(i[5])\n",
    "    summary.append(i[6])\n",
    "\n",
    "books = pd.DataFrame({'book_id': book_id, 'book_name': book_name,\n",
    "                       'genre': genre, 'summary': summary})\n",
    "\n",
    "books.head(2)"
   ]
  },
  {
   "cell_type": "code",
   "execution_count": 63,
   "metadata": {},
   "outputs": [
    {
     "name": "stdout",
     "output_type": "stream",
     "text": [
      "Dataset size before cleaning: 16559\n",
      "Dataset size after cleaning: 12841\n"
     ]
    }
   ],
   "source": [
    "# json genres example\n",
    "json.loads(books['genre'][1]).values()\n",
    "\n",
    "print(f'Dataset size before cleaning: {len(books)}')\n",
    "\n",
    "# drop data where genre is empty\n",
    "books.drop(books[books['genre']==''].index, inplace=True)\n",
    "\n",
    "# drop data where summary is empty\n",
    "books.drop(books[books['summary']==''].index, inplace=True)\n",
    "\n",
    "print(f'Dataset size after cleaning: {len(books)}')"
   ]
  },
  {
   "cell_type": "markdown",
   "metadata": {},
   "source": [
    "Decode JSON format in 'genre' column to 'new_genre' column\\\n",
    "Create a dictionary with all genres as keys and their number of occurrence as values"
   ]
  },
  {
   "cell_type": "code",
   "execution_count": 64,
   "metadata": {},
   "outputs": [],
   "source": [
    "genres = []\n",
    "for i in books['genre']:\n",
    "    x = list(json.loads(i).values())\n",
    "    genres.append(x)\n",
    "books['genre_new'] = genres\n",
    "\n",
    "genres_sum = sum(genres,[])\n",
    "all_genres = {}\n",
    "\n",
    "for g in set(genres_sum):\n",
    "    all_genres[g] = genres_sum.count(g)\n",
    "\n",
    "all_genres = dict(sorted(all_genres.items(), key=lambda x: x[1]))\n"
   ]
  },
  {
   "cell_type": "code",
   "execution_count": 65,
   "metadata": {},
   "outputs": [
    {
     "name": "stdout",
     "output_type": "stream",
     "text": [
      "Different genres count: 227\n",
      "Top 50 popular genres:\n"
     ]
    },
    {
     "data": {
      "image/png": "[encoded data removed]",
      "text/plain": [
       "<Figure size 864x1080 with 1 Axes>"
      ]
     },
     "metadata": {
      "needs_background": "light"
     },
     "output_type": "display_data"
    }
   ],
   "source": [
    "print(f'Different genres count: {len(all_genres)}')\n",
    "print('Top 50 popular genres:')\n",
    "vis = pd.DataFrame({'genre':list(all_genres.keys()), 'count':list(all_genres.values())}) \n",
    "\n",
    "# visualize genres and frequencies\n",
    "dat = vis.nlargest(columns=\"count\", n = 50) \n",
    "plt.figure(figsize=(12,15)) \n",
    "ax = sns.barplot(data=dat, x= \"count\", y = \"genre\") \n",
    "ax.set(ylabel = 'Genre') \n",
    "plt.show()"
   ]
  },
  {
   "cell_type": "markdown",
   "metadata": {},
   "source": []
  },
  {
   "cell_type": "code",
   "execution_count": 66,
   "metadata": {},
   "outputs": [
    {
     "name": "stdout",
     "output_type": "stream",
     "text": [
      "Remove genres number: 215\n",
      "All genres number: 12\n",
      "{'Horror': 511, 'Thriller': 568, 'Historical novel': 654, 'Crime Fiction': 753, 'Suspense': 765, 'Young adult literature': 825, 'Mystery': 1396, \"Children's literature\": 2122, 'Fantasy': 2413, 'Novel': 2463, 'Science Fiction': 2870, 'Speculative fiction': 4314}\n"
     ]
    }
   ],
   "source": [
    "remove_genres = list({key: value for key, value in all_genres.items() if value <= 500})\n",
    "remove_genres.append(\"Fiction\")\n",
    "all_genres = {key: value for key, value in all_genres.items() if value > 500}\n",
    "all_genres.pop('Fiction')\n",
    "\n",
    "print(f'Remove genres number: {len(remove_genres)}')\n",
    "print(f'All genres number: {len(all_genres)}')\n",
    "print(all_genres)"
   ]
  },
  {
   "cell_type": "code",
   "execution_count": 67,
   "metadata": {},
   "outputs": [
    {
     "name": "stdout",
     "output_type": "stream",
     "text": [
      "2028\n"
     ]
    }
   ],
   "source": [
    "# remove genres from dataset\n",
    "for rem in remove_genres:\n",
    "    i = 0\n",
    "    for g in books['genre_new']:\n",
    "        i += 1\n",
    "        if rem in g: \n",
    "            g.remove(rem)\n",
    "\n",
    "id_empty=[]\n",
    "for id in books['book_id']:\n",
    "    if books[books['book_id']==id]['genre_new'].tolist()[0] == []: \n",
    "        id_empty.append(id)\n",
    "\n",
    "print(len(id_empty))"
   ]
  },
  {
   "cell_type": "code",
   "execution_count": 68,
   "metadata": {},
   "outputs": [
    {
     "name": "stdout",
     "output_type": "stream",
     "text": [
      "10813\n"
     ]
    },
    {
     "data": {
      "text/html": [
       "<div>\n",
       "<style scoped>\n",
       "    .dataframe tbody tr th:only-of-type {\n",
       "        vertical-align: middle;\n",
       "    }\n",
       "\n",
       "    .dataframe tbody tr th {\n",
       "        vertical-align: top;\n",
       "    }\n",
       "\n",
       "    .dataframe thead th {\n",
       "        text-align: right;\n",
       "    }\n",
       "</style>\n",
       "<table border=\"1\" class=\"dataframe\">\n",
       "  <thead>\n",
       "    <tr style=\"text-align: right;\">\n",
       "      <th></th>\n",
       "      <th>book_id</th>\n",
       "      <th>book_name</th>\n",
       "      <th>genre</th>\n",
       "      <th>summary</th>\n",
       "      <th>genre_new</th>\n",
       "    </tr>\n",
       "  </thead>\n",
       "  <tbody>\n",
       "    <tr>\n",
       "      <th>0</th>\n",
       "      <td>620</td>\n",
       "      <td>Animal Farm</td>\n",
       "      <td>Children's literature</td>\n",
       "      <td>Old Major, the old boar on the Manor Farm, ca...</td>\n",
       "      <td>[Children's literature, Speculative fiction]</td>\n",
       "    </tr>\n",
       "    <tr>\n",
       "      <th>1</th>\n",
       "      <td>843</td>\n",
       "      <td>A Clockwork Orange</td>\n",
       "      <td>Science Fiction</td>\n",
       "      <td>Alex, a teenager living in near-future Englan...</td>\n",
       "      <td>[Science Fiction, Speculative fiction]</td>\n",
       "    </tr>\n",
       "  </tbody>\n",
       "</table>\n",
       "</div>"
      ],
      "text/plain": [
       "  book_id           book_name                  genre  \\\n",
       "0     620         Animal Farm  Children's literature   \n",
       "1     843  A Clockwork Orange        Science Fiction   \n",
       "\n",
       "                                             summary  \\\n",
       "0   Old Major, the old boar on the Manor Farm, ca...   \n",
       "1   Alex, a teenager living in near-future Englan...   \n",
       "\n",
       "                                      genre_new  \n",
       "0  [Children's literature, Speculative fiction]  \n",
       "1        [Science Fiction, Speculative fiction]  "
      ]
     },
     "execution_count": 68,
     "metadata": {},
     "output_type": "execute_result"
    }
   ],
   "source": [
    "# drop data where genre is empty\n",
    "for id in id_empty:\n",
    "    books.drop(books[books['book_id']==id].index, inplace=True)\n",
    "\n",
    "genres = []\n",
    "for i in books['genre_new']:\n",
    "    x = list(i)[0]\n",
    "    genres.append(x)\n",
    "books['genre'] = genres\n",
    "\n",
    "# After remove genres\n",
    "print(len(books))\n",
    "\n",
    "books.head(2)"
   ]
  },
  {
   "cell_type": "markdown",
   "metadata": {},
   "source": [
    "Preprocessing text functions:\n",
    "- to lowercase\n",
    "- remove everething except letters\n",
    "- remove whitespaces \n",
    "- remove stop words\n",
    "- text stemming (Porter)\\\n",
    "<img src=\"https://user.oc-static.com/upload/2020/10/22/16033551309054_stemming%20example.png\" alt=\"drawing\" width=\"300\"/>"
   ]
  },
  {
   "cell_type": "code",
   "execution_count": 69,
   "metadata": {},
   "outputs": [],
   "source": [
    "def preprocess(text):\n",
    "    text = re.sub(\"\\'\", \"\", str(text)) \n",
    "    text = re.sub(\"[^a-zA-Z]\", \" \", str(text)) \n",
    "    text = ' '.join(text.split()) \n",
    "    text = text.lower() \n",
    "\n",
    "    return text\n",
    "\n",
    "books['clear_summary'] = books['summary'].apply(lambda x: preprocess(x))"
   ]
  },
  {
   "cell_type": "code",
   "execution_count": 70,
   "metadata": {},
   "outputs": [],
   "source": [
    "# Removing stop words (\"a\", \"an\"...)\n",
    "from nltk.corpus import stopwords\n",
    "stop_words = set(stopwords.words('english'))\n",
    "def remove_stopwords(text):\n",
    "    no_stopword_text = [w for w in text.split() if not w in stop_words]\n",
    "    return ' '.join(no_stopword_text)\n",
    "\n",
    "books['clear_summary'] = books['clear_summary'].apply(lambda x: remove_stopwords(x))"
   ]
  },
  {
   "cell_type": "code",
   "execution_count": 71,
   "metadata": {},
   "outputs": [],
   "source": [
    "from nltk.stem import PorterStemmer\n",
    "stemmer = PorterStemmer()\n",
    "def stemming(text):\n",
    "    stemText = \"\"\n",
    "    for word in text.split():\n",
    "        stem = stemmer.stem(word)\n",
    "        stemText += stem\n",
    "        stemText += \" \"\n",
    "    stemText = stemText.strip()\n",
    "    return stemText\n",
    "\n",
    "books['clear_summary'] = books['clear_summary'].apply(lambda x: stemming(x))"
   ]
  },
  {
   "cell_type": "code",
   "execution_count": 72,
   "metadata": {},
   "outputs": [
    {
     "name": "stdout",
     "output_type": "stream",
     "text": [
      "0        old major old boar manor farm call anim farm m...\n",
      "1        alex teenag live near futur england lead gang ...\n",
      "2        text plagu divid five part town oran thousand ...\n",
      "4        novel posit space around milki way divid conce...\n",
      "6        ged young boy gont one larger island north arc...\n",
      "                               ...                        \n",
      "16546    novel anni stonewal daughter heaven casteel ta...\n",
      "16549    stori start former govern agent frank compton ...\n",
      "16551    seri follow charact nick stone ex militari man...\n",
      "16555    reader first meet rapp covert oper iran discov...\n",
      "16558    makar devushkin varvara dobroselova second cou...\n",
      "Name: clear_summary, Length: 10813, dtype: object\n"
     ]
    }
   ],
   "source": [
    "# After summary preprocessing\n",
    "books.head(2)\n",
    "\n",
    "print(books['clear_summary'])"
   ]
  },
  {
   "cell_type": "markdown",
   "metadata": {},
   "source": [
    "Word frequency visualization"
   ]
  },
  {
   "cell_type": "code",
   "execution_count": 73,
   "metadata": {},
   "outputs": [
    {
     "name": "stdout",
     "output_type": "stream",
     "text": [
      "50 most frequent words:\n"
     ]
    },
    {
     "data": {
      "image/png": "[encoded data removed]",
      "text/plain": [
       "<Figure size 864x1080 with 1 Axes>"
      ]
     },
     "metadata": {
      "needs_background": "light"
     },
     "output_type": "display_data"
    }
   ],
   "source": [
    "def frequency(text, numb):\n",
    "    allwords = ' '.join([x for x in text]) \n",
    "    allwords = allwords.split() \n",
    "    dist = nltk.FreqDist(allwords) \n",
    "    wordsdf = pd.DataFrame({'word':list(dist.keys()), 'count':list(dist.values())}) \n",
    "\n",
    "    d = wordsdf.nlargest(columns=\"count\", n = numb) \n",
    "\n",
    "    # visualize words and frequencies\n",
    "    plt.figure(figsize=(12,15)) \n",
    "    ax = sns.barplot(data=d, x= \"count\", y = \"word\") \n",
    "    ax.set(ylabel = 'Word') \n",
    "    plt.show()\n",
    "\n",
    "print('50 most frequent words:')\n",
    "frequency(books['clear_summary'], 50)"
   ]
  }
 ],
 "metadata": {
  "interpreter": {
   "hash": "29c7a3964a9838c84f1d19dc4c2535ace62f5c920b4276f4747fa80ddec8638a"
  },
  "kernelspec": {
   "display_name": "Python 3.8.5 32-bit",
   "language": "python",
   "name": "python3"
  },
  "language_info": {
   "codemirror_mode": {
    "name": "ipython",
    "version": 3
   },
   "file_extension": ".py",
   "mimetype": "text/x-python",
   "name": "python",
   "nbconvert_exporter": "python",
   "pygments_lexer": "ipython3",
   "version": "3.8.5"
  },
  "orig_nbformat": 4
 },
 "nbformat": 4,
 "nbformat_minor": 2
}
