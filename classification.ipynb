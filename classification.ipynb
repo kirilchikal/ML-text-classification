{
 "cells": [
  {
   "cell_type": "markdown",
   "metadata": {},
   "source": [
    "Importing libraries"
   ]
  },
  {
   "cell_type": "code",
   "execution_count": 2,
   "metadata": {},
   "outputs": [],
   "source": [
    "import pandas as pd\n",
    "import numpy as np\n",
    "import json\n",
    "import nltk\n",
    "import seaborn as sns\n",
    "import re\n",
    "import csv\n",
    "import matplotlib.pyplot as plt\n",
    "from tqdm import tqdm\n",
    "\n",
    "from sklearn.feature_extraction.text import TfidfVectorizer\n",
    "from sklearn import naive_bayes, svm\n",
    "from sklearn.model_selection import cross_validate\n",
    "from sklearn.metrics import classification_report, confusion_matrix, accuracy_score\n"
   ]
  },
  {
   "cell_type": "markdown",
   "metadata": {},
   "source": [
    "Extract data from file keeping only 4 columns"
   ]
  },
  {
   "cell_type": "code",
   "execution_count": 3,
   "metadata": {},
   "outputs": [
    {
     "name": "stderr",
     "output_type": "stream",
     "text": [
      "16559it [00:00, 21030.14it/s]\n",
      "100%|██████████| 16559/16559 [00:00<00:00, 893545.18it/s]\n"
     ]
    },
    {
     "data": {
      "text/html": [
       "<div>\n",
       "<style scoped>\n",
       "    .dataframe tbody tr th:only-of-type {\n",
       "        vertical-align: middle;\n",
       "    }\n",
       "\n",
       "    .dataframe tbody tr th {\n",
       "        vertical-align: top;\n",
       "    }\n",
       "\n",
       "    .dataframe thead th {\n",
       "        text-align: right;\n",
       "    }\n",
       "</style>\n",
       "<table border=\"1\" class=\"dataframe\">\n",
       "  <thead>\n",
       "    <tr style=\"text-align: right;\">\n",
       "      <th></th>\n",
       "      <th>book_id</th>\n",
       "      <th>book_name</th>\n",
       "      <th>genre</th>\n",
       "      <th>summary</th>\n",
       "    </tr>\n",
       "  </thead>\n",
       "  <tbody>\n",
       "    <tr>\n",
       "      <th>0</th>\n",
       "      <td>620</td>\n",
       "      <td>Animal Farm</td>\n",
       "      <td>{\"/m/016lj8\": \"Roman \\u00e0 clef\", \"/m/06nbt\":...</td>\n",
       "      <td>Old Major, the old boar on the Manor Farm, ca...</td>\n",
       "    </tr>\n",
       "    <tr>\n",
       "      <th>1</th>\n",
       "      <td>843</td>\n",
       "      <td>A Clockwork Orange</td>\n",
       "      <td>{\"/m/06n90\": \"Science Fiction\", \"/m/0l67h\": \"N...</td>\n",
       "      <td>Alex, a teenager living in near-future Englan...</td>\n",
       "    </tr>\n",
       "  </tbody>\n",
       "</table>\n",
       "</div>"
      ],
      "text/plain": [
       "  book_id           book_name  \\\n",
       "0     620         Animal Farm   \n",
       "1     843  A Clockwork Orange   \n",
       "\n",
       "                                               genre  \\\n",
       "0  {\"/m/016lj8\": \"Roman \\u00e0 clef\", \"/m/06nbt\":...   \n",
       "1  {\"/m/06n90\": \"Science Fiction\", \"/m/0l67h\": \"N...   \n",
       "\n",
       "                                             summary  \n",
       "0   Old Major, the old boar on the Manor Farm, ca...  \n",
       "1   Alex, a teenager living in near-future Englan...  "
      ]
     },
     "execution_count": 3,
     "metadata": {},
     "output_type": "execute_result"
    }
   ],
   "source": [
    "data = []\n",
    "\n",
    "with open(\"Data/booksummaries/booksummaries.txt\", encoding=\"utf8\") as f:\n",
    "    reader = csv.reader(f, dialect='excel-tab')\n",
    "    for row in tqdm(reader):\n",
    "        data.append(row)\n",
    "\n",
    "book_id = []\n",
    "book_name = []\n",
    "summary = []\n",
    "genre = []\n",
    "\n",
    "for i in tqdm(data):\n",
    "    book_id.append(i[0])\n",
    "    book_name.append(i[2])\n",
    "    genre.append(i[5])\n",
    "    summary.append(i[6])\n",
    "\n",
    "books = pd.DataFrame({'book_id': book_id, 'book_name': book_name,\n",
    "                       'genre': genre, 'summary': summary})\n",
    "\n",
    "books.head(2)"
   ]
  },
  {
   "cell_type": "code",
   "execution_count": 4,
   "metadata": {},
   "outputs": [
    {
     "name": "stdout",
     "output_type": "stream",
     "text": [
      "Dataset size before cleaning: 16559\n",
      "Dataset size after cleaning: 12841\n"
     ]
    }
   ],
   "source": [
    "# json genres example\n",
    "json.loads(books['genre'][1]).values()\n",
    "\n",
    "print(f'Dataset size before cleaning: {len(books)}')\n",
    "\n",
    "# drop data where genre is empty\n",
    "books.drop(books[books['genre']==''].index, inplace=True)\n",
    "\n",
    "# drop data where summary is empty\n",
    "books.drop(books[books['summary']==''].index, inplace=True)\n",
    "\n",
    "\n",
    "print(f'Dataset size after cleaning: {len(books)}')"
   ]
  },
  {
   "cell_type": "code",
   "execution_count": 5,
   "metadata": {},
   "outputs": [
    {
     "name": "stdout",
     "output_type": "stream",
     "text": [
      "Dataset size after cleaning: 11941\n"
     ]
    }
   ],
   "source": [
    "s = books.summary.str.len().sort_values().index\n",
    "books = books.reindex(s)[900:]\n",
    "print(f'Dataset size after cleaning: {len(books)}')"
   ]
  },
  {
   "cell_type": "markdown",
   "metadata": {},
   "source": [
    "Decode JSON format in 'genre' column to 'new_genre' column\\\n",
    "Create a dictionary with all genres as keys and their number of occurrence as values"
   ]
  },
  {
   "cell_type": "code",
   "execution_count": 6,
   "metadata": {},
   "outputs": [],
   "source": [
    "genres = []\n",
    "for i in books['genre']:\n",
    "    x = list(json.loads(i).values())\n",
    "    genres.append(x)\n",
    "books['genre_new'] = genres\n",
    "\n",
    "genres_sum = sum(genres,[])\n",
    "all_genres = {}\n",
    "\n",
    "for g in set(genres_sum):\n",
    "    all_genres[g] = genres_sum.count(g)\n",
    "\n",
    "all_genres = dict(sorted(all_genres.items(), key=lambda x: x[1]))\n"
   ]
  },
  {
   "cell_type": "code",
   "execution_count": 7,
   "metadata": {},
   "outputs": [
    {
     "name": "stdout",
     "output_type": "stream",
     "text": [
      "Different genres count: 226\n",
      "Top 40 popular genres:\n"
     ]
    },
    {
     "data": {
      "image/png": "[encoded data removed]",
      "text/plain": [
       "<Figure size 864x1080 with 1 Axes>"
      ]
     },
     "metadata": {
      "needs_background": "light"
     },
     "output_type": "display_data"
    }
   ],
   "source": [
    "print(f'Different genres count: {len(all_genres)}')\n",
    "print('Top 40 popular genres:')\n",
    "vis = pd.DataFrame({'genre':list(all_genres.keys()), 'count':list(all_genres.values())}) \n",
    "\n",
    "# visualize genres and frequencies\n",
    "dat = vis.nlargest(columns=\"count\", n = 40) \n",
    "plt.figure(figsize=(12,15)) \n",
    "ax = sns.barplot(data=dat, x= \"count\", y = \"genre\") \n",
    "ax.set(ylabel = 'Genre') \n",
    "plt.show()"
   ]
  },
  {
   "cell_type": "markdown",
   "metadata": {},
   "source": []
  },
  {
   "cell_type": "code",
   "execution_count": 8,
   "metadata": {},
   "outputs": [
    {
     "name": "stdout",
     "output_type": "stream",
     "text": [
      "Remove genres number: 221\n",
      "All genres number: 5\n",
      "{'Fantasy', 'Novel', 'Crime Fiction', 'Mystery', 'Thriller'}\n"
     ]
    }
   ],
   "source": [
    "# remove_genres = list({key: value for key, value in all_genres.items() if value <= 700})\n",
    "# remove_genres.append(\"Speculative fiction\")\n",
    "# all_genres = {key: value for key, value in all_genres.items() if value > 700}\n",
    "# all_genres.pop('Speculative fiction')\n",
    "genres_list = {\"Fantasy\", \"Novel\", \"Crime Fiction\", \"Thriller\", \"Mystery\"}\n",
    "remove_genres = all_genres\n",
    "for g in genres_list: \n",
    "    remove_genres.pop(g)\n",
    "all_genres = genres_list\n",
    "\n",
    "print(f'Remove genres number: {len(remove_genres)}')\n",
    "print(f'All genres number: {len(all_genres)}')\n",
    "print(all_genres)"
   ]
  },
  {
   "cell_type": "code",
   "execution_count": 9,
   "metadata": {},
   "outputs": [
    {
     "name": "stdout",
     "output_type": "stream",
     "text": [
      "5895\n"
     ]
    }
   ],
   "source": [
    "# remove genres from dataset\n",
    "for rem in remove_genres:\n",
    "    i = 0\n",
    "    for g in books['genre_new']:\n",
    "        i += 1\n",
    "        if rem in g: \n",
    "            g.remove(rem)\n",
    "\n",
    "id_empty=[]\n",
    "for id in books['book_id']:\n",
    "    if books[books['book_id']==id]['genre_new'].tolist()[0] == []: \n",
    "        id_empty.append(id)\n",
    "\n",
    "print(len(id_empty))"
   ]
  },
  {
   "cell_type": "code",
   "execution_count": 10,
   "metadata": {},
   "outputs": [],
   "source": [
    "# drop data where genre is empty\n",
    "for id in id_empty:\n",
    "    books.drop(books[books['book_id']==id].index, inplace=True)\n",
    "\n",
    "genres = []\n",
    "for i in books['genre_new']:\n",
    "    x = list(i)[0]\n",
    "    genres.append(x)\n",
    "books['genre'] = genres"
   ]
  },
  {
   "cell_type": "markdown",
   "metadata": {},
   "source": [
    "Preprocessing text functions:\n",
    "- to lowercase\n",
    "- remove everething except letters\n",
    "- remove whitespaces \n",
    "- remove stop words\n",
    "- text stemming (Porter)\n",
    "<img src=\"https://user.oc-static.com/upload/2020/10/22/16033551309054_stemming%20example.png\" alt=\"drawing\" width=\"300\"/>"
   ]
  },
  {
   "cell_type": "code",
   "execution_count": 11,
   "metadata": {},
   "outputs": [],
   "source": [
    "def preprocess(text):\n",
    "    text = re.sub(\"\\'\", \"\", str(text)) \n",
    "    text = re.sub(\"[^a-zA-Z]\", \" \", str(text)) \n",
    "    text = ' '.join(text.split()) \n",
    "    text = text.lower() \n",
    "\n",
    "    return text\n",
    "\n",
    "books['clear_summary'] = books['summary'].apply(lambda x: preprocess(x))"
   ]
  },
  {
   "cell_type": "code",
   "execution_count": 12,
   "metadata": {},
   "outputs": [],
   "source": [
    "# Removing stop words (\"a\", \"an\"...)\n",
    "from nltk.corpus import stopwords\n",
    "stop_words = set(stopwords.words('english'))\n",
    "def remove_stopwords(text):\n",
    "    no_stopword_text = [w for w in text.split() if not w in stop_words]\n",
    "    return ' '.join(no_stopword_text)\n",
    "\n",
    "books['clear_summary'] = books['clear_summary'].apply(lambda x: remove_stopwords(x))"
   ]
  },
  {
   "cell_type": "code",
   "execution_count": 13,
   "metadata": {},
   "outputs": [],
   "source": [
    "from nltk.stem import PorterStemmer\n",
    "stemmer = PorterStemmer()\n",
    "def stemming(text):\n",
    "    stemText = \"\"\n",
    "    for word in text.split():\n",
    "        stem = stemmer.stem(word)\n",
    "        stemText += stem\n",
    "        stemText += \" \"\n",
    "    stemText = stemText.strip()\n",
    "    return stemText\n",
    "\n",
    "books['clear_summary'] = books['clear_summary'].apply(lambda x: stemming(x))"
   ]
  },
  {
   "cell_type": "code",
   "execution_count": 14,
   "metadata": {},
   "outputs": [
    {
     "name": "stdout",
     "output_type": "stream",
     "text": [
      "data size: 6046\n"
     ]
    },
    {
     "data": {
      "text/html": [
       "<div>\n",
       "<style scoped>\n",
       "    .dataframe tbody tr th:only-of-type {\n",
       "        vertical-align: middle;\n",
       "    }\n",
       "\n",
       "    .dataframe tbody tr th {\n",
       "        vertical-align: top;\n",
       "    }\n",
       "\n",
       "    .dataframe thead th {\n",
       "        text-align: right;\n",
       "    }\n",
       "</style>\n",
       "<table border=\"1\" class=\"dataframe\">\n",
       "  <thead>\n",
       "    <tr style=\"text-align: right;\">\n",
       "      <th></th>\n",
       "      <th>book_id</th>\n",
       "      <th>book_name</th>\n",
       "      <th>summary</th>\n",
       "      <th>genre_new</th>\n",
       "      <th>clear_summary</th>\n",
       "    </tr>\n",
       "    <tr>\n",
       "      <th>genre</th>\n",
       "      <th></th>\n",
       "      <th></th>\n",
       "      <th></th>\n",
       "      <th></th>\n",
       "      <th></th>\n",
       "    </tr>\n",
       "  </thead>\n",
       "  <tbody>\n",
       "    <tr>\n",
       "      <th>Crime Fiction</th>\n",
       "      <td>606</td>\n",
       "      <td>606</td>\n",
       "      <td>606</td>\n",
       "      <td>606</td>\n",
       "      <td>606</td>\n",
       "    </tr>\n",
       "    <tr>\n",
       "      <th>Fantasy</th>\n",
       "      <td>2144</td>\n",
       "      <td>2144</td>\n",
       "      <td>2144</td>\n",
       "      <td>2144</td>\n",
       "      <td>2144</td>\n",
       "    </tr>\n",
       "    <tr>\n",
       "      <th>Mystery</th>\n",
       "      <td>750</td>\n",
       "      <td>750</td>\n",
       "      <td>750</td>\n",
       "      <td>750</td>\n",
       "      <td>750</td>\n",
       "    </tr>\n",
       "    <tr>\n",
       "      <th>Novel</th>\n",
       "      <td>2004</td>\n",
       "      <td>2004</td>\n",
       "      <td>2004</td>\n",
       "      <td>2004</td>\n",
       "      <td>2004</td>\n",
       "    </tr>\n",
       "    <tr>\n",
       "      <th>Thriller</th>\n",
       "      <td>542</td>\n",
       "      <td>542</td>\n",
       "      <td>542</td>\n",
       "      <td>542</td>\n",
       "      <td>542</td>\n",
       "    </tr>\n",
       "  </tbody>\n",
       "</table>\n",
       "</div>"
      ],
      "text/plain": [
       "               book_id  book_name  summary  genre_new  clear_summary\n",
       "genre                                                               \n",
       "Crime Fiction      606        606      606        606            606\n",
       "Fantasy           2144       2144     2144       2144           2144\n",
       "Mystery            750        750      750        750            750\n",
       "Novel             2004       2004     2004       2004           2004\n",
       "Thriller           542        542      542        542            542"
      ]
     },
     "execution_count": 14,
     "metadata": {},
     "output_type": "execute_result"
    }
   ],
   "source": [
    "# After summary preprocessing\n",
    "print(f'data size: {len(books)}')\n",
    "books.groupby('genre').count()"
   ]
  },
  {
   "cell_type": "markdown",
   "metadata": {},
   "source": [
    "Encode target labels with value between 0 and n_classes-1."
   ]
  },
  {
   "cell_type": "code",
   "execution_count": 15,
   "metadata": {},
   "outputs": [
    {
     "data": {
      "text/plain": [
       "array(['Crime Fiction', 'Fantasy', 'Mystery', 'Novel', 'Thriller'],\n",
       "      dtype=object)"
      ]
     },
     "execution_count": 15,
     "metadata": {},
     "output_type": "execute_result"
    }
   ],
   "source": [
    "from sklearn.preprocessing import LabelEncoder\n",
    "\n",
    "encoder = LabelEncoder()\n",
    "y = encoder.fit_transform(books['genre'])\n",
    "encoder.inverse_transform([0,1,2,3,4])"
   ]
  },
  {
   "cell_type": "markdown",
   "metadata": {},
   "source": [
    "Convert text to numbers using TFIDF (term frequency–inverse document frequency) approach\n",
    "\n",
    "+ **Term frequency** = (Number of Occurrences of a word)/(Total words in the document)\n",
    "+ **IDF(word)** = Log((Total number of documents)/(Number of documents containing the word))\n",
    "\n",
    "*max_features* - equal to 1500, which means we want to use the 3000 most frequently occurring words as features to train our classifier.\\\n",
    "*min_df* - ignore terms that have a document frequency strictly lower than the given number\\\n",
    "*max_df* - include only those words that appear in a maximum of 65% of all documents\\\n",
    "(Words that appear in almost every document are usually not suitable for classification because they do not provide any unique information about the document)"
   ]
  },
  {
   "cell_type": "code",
   "execution_count": 16,
   "metadata": {},
   "outputs": [],
   "source": [
    "tfidfconverter = TfidfVectorizer(max_features=3000, min_df=10, max_df=0.65)\n",
    "X = tfidfconverter.fit_transform(books['clear_summary'])"
   ]
  },
  {
   "cell_type": "markdown",
   "metadata": {},
   "source": [
    "Splitting data into training and test sets (90%/10%)"
   ]
  },
  {
   "cell_type": "code",
   "execution_count": 20,
   "metadata": {},
   "outputs": [],
   "source": [
    "from sklearn.model_selection import train_test_split\n",
    "X_train, X_test, y_train, y_test = train_test_split(X, y, test_size=0.1, shuffle=True)"
   ]
  },
  {
   "cell_type": "markdown",
   "metadata": {},
   "source": [
    "1. Naive Bayes Classifier Algorithm"
   ]
  },
  {
   "cell_type": "code",
   "execution_count": 18,
   "metadata": {},
   "outputs": [
    {
     "name": "stdout",
     "output_type": "stream",
     "text": [
      "[0.70091743 0.72610294 0.72977941 0.69485294 0.75735294 0.70588235\n",
      " 0.70036765 0.70404412 0.68933824 0.66911765]\n",
      "best: 4\n",
      "              precision    recall  f1-score   support\n",
      "\n",
      "           0       0.78      0.45      0.57        55\n",
      "           1       0.78      0.84      0.81       214\n",
      "           2       0.80      0.50      0.61        70\n",
      "           3       0.61      0.84      0.71       209\n",
      "           4       1.00      0.21      0.35        57\n",
      "\n",
      "    accuracy                           0.71       605\n",
      "   macro avg       0.79      0.57      0.61       605\n",
      "weighted avg       0.74      0.71      0.69       605\n",
      "\n",
      "Accurancy 0.7057851239669422\n",
      "[1 3 3 4 3 3 1 1 3 1 0 3 1 3 2]\n",
      "[1 1 3 3 3 3 1 3 3 1 3 3 1 3 2]\n"
     ]
    }
   ],
   "source": [
    "# fitting the classification model\n",
    "classifier_nb = naive_bayes.MultinomialNB()\n",
    "\n",
    "# x10 cross validation\n",
    "cv_results = cross_validate(classifier_nb, X_train, y_train, cv=10, return_estimator=True)\n",
    "print(cv_results['test_score'])\n",
    "index_best = np.argmax(cv_results['test_score'])\n",
    "print(f'best: {index_best}')\n",
    "classifier_nb = cv_results['estimator'][index_best]\n",
    "\n",
    "# predict genre on test dataset\n",
    "y_pred = classifier_nb.predict(X_test)\n",
    "\n",
    "# Model evaluation\n",
    "#print(confusion_matrix(y_test,y_pred))\n",
    "print(classification_report(y_test,y_pred))\n",
    "print(f'Accurancy {accuracy_score(y_test, y_pred)}')\n",
    "\n",
    "print(y_test[:15])\n",
    "print(y_pred[:15])"
   ]
  },
  {
   "cell_type": "markdown",
   "metadata": {},
   "source": [
    "2. SVM algorithm using the RBF (Gaussian) kernel"
   ]
  },
  {
   "cell_type": "code",
   "execution_count": 22,
   "metadata": {},
   "outputs": [
    {
     "name": "stdout",
     "output_type": "stream",
     "text": [
      "[0.74862385 0.72242647 0.71507353 0.72426471 0.74264706 0.73529412\n",
      " 0.72794118 0.75367647 0.71875    0.75183824]\n",
      "best: 7\n",
      "              precision    recall  f1-score   support\n",
      "\n",
      "           0       0.69      0.58      0.63        66\n",
      "           1       0.86      0.87      0.86       224\n",
      "           2       0.80      0.53      0.63        74\n",
      "           3       0.67      0.90      0.76       192\n",
      "           4       0.71      0.24      0.36        49\n",
      "\n",
      "    accuracy                           0.75       605\n",
      "   macro avg       0.74      0.62      0.65       605\n",
      "weighted avg       0.76      0.75      0.74       605\n",
      "\n",
      "Accurancy 0.7520661157024794\n"
     ]
    }
   ],
   "source": [
    "# fitting the classification model\n",
    "classifier_svc = svm.SVC(kernel='rbf',gamma=1)\n",
    "\n",
    "# x10 cross validation\n",
    "cv_results = cross_validate(classifier_svc, X_train, y_train, cv=10, return_estimator=True)\n",
    "print(cv_results['test_score'])\n",
    "index_best = np.argmax(cv_results['test_score'])\n",
    "print(f'best: {index_best}')\n",
    "classifier_svc = cv_results['estimator'][index_best]\n",
    "\n",
    "y_pred=classifier_svc.predict(X_test)\n",
    "\n",
    "# Model evaluation\n",
    "#print(confusion_matrix(y_test,y_pred))\n",
    "print(classification_report(y_test,y_pred))\n",
    "print(f'Accurancy {accuracy_score(y_test, y_pred)}')"
   ]
  }
 ],
 "metadata": {
  "interpreter": {
   "hash": "29c7a3964a9838c84f1d19dc4c2535ace62f5c920b4276f4747fa80ddec8638a"
  },
  "kernelspec": {
   "display_name": "Python 3.8.5 32-bit",
   "language": "python",
   "name": "python3"
  },
  "language_info": {
   "codemirror_mode": {
    "name": "ipython",
    "version": 3
   },
   "file_extension": ".py",
   "mimetype": "text/x-python",
   "name": "python",
   "nbconvert_exporter": "python",
   "pygments_lexer": "ipython3",
   "version": "3.8.5"
  },
  "orig_nbformat": 4
 },
 "nbformat": 4,
 "nbformat_minor": 2
}
